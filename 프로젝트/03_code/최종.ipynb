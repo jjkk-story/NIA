{
 "cells": [
  {
   "cell_type": "code",
   "execution_count": 1,
   "id": "5d3c4d1e",
   "metadata": {},
   "outputs": [],
   "source": [
    "import numpy as np \n",
    "import pandas as pd\n",
    "import seaborn as sns \n",
    "import matplotlib.pyplot as plt\n",
    "%matplotlib inline\n",
    "\n",
    "import warnings\n",
    "warnings.filterwarnings('ignore')"
   ]
  },
  {
   "cell_type": "code",
   "execution_count": 2,
   "id": "fab42165",
   "metadata": {},
   "outputs": [
    {
     "data": {
      "text/html": [
       "<div>\n",
       "<style scoped>\n",
       "    .dataframe tbody tr th:only-of-type {\n",
       "        vertical-align: middle;\n",
       "    }\n",
       "\n",
       "    .dataframe tbody tr th {\n",
       "        vertical-align: top;\n",
       "    }\n",
       "\n",
       "    .dataframe thead th {\n",
       "        text-align: right;\n",
       "    }\n",
       "</style>\n",
       "<table border=\"1\" class=\"dataframe\">\n",
       "  <thead>\n",
       "    <tr style=\"text-align: right;\">\n",
       "      <th></th>\n",
       "      <th>gid</th>\n",
       "      <th>심야약국</th>\n",
       "      <th>응급실</th>\n",
       "      <th>심_응</th>\n",
       "      <th>약국</th>\n",
       "      <th>소방서</th>\n",
       "      <th>경찰서</th>\n",
       "      <th>안전상비</th>\n",
       "      <th>버스정류소</th>\n",
       "      <th>지하철</th>\n",
       "      <th>어린이집</th>\n",
       "      <th>유아인구수</th>\n",
       "      <th>총인구수</th>\n",
       "    </tr>\n",
       "  </thead>\n",
       "  <tbody>\n",
       "    <tr>\n",
       "      <th>0</th>\n",
       "      <td>다사6453</td>\n",
       "      <td>0</td>\n",
       "      <td>0</td>\n",
       "      <td>0</td>\n",
       "      <td>2</td>\n",
       "      <td>0</td>\n",
       "      <td>0</td>\n",
       "      <td>3</td>\n",
       "      <td>5</td>\n",
       "      <td>0</td>\n",
       "      <td>3</td>\n",
       "      <td>411</td>\n",
       "      <td>9295</td>\n",
       "    </tr>\n",
       "    <tr>\n",
       "      <th>1</th>\n",
       "      <td>다사5651</td>\n",
       "      <td>0</td>\n",
       "      <td>0</td>\n",
       "      <td>0</td>\n",
       "      <td>5</td>\n",
       "      <td>0</td>\n",
       "      <td>1</td>\n",
       "      <td>31</td>\n",
       "      <td>26</td>\n",
       "      <td>4</td>\n",
       "      <td>4</td>\n",
       "      <td>205</td>\n",
       "      <td>12478</td>\n",
       "    </tr>\n",
       "    <tr>\n",
       "      <th>2</th>\n",
       "      <td>다사6157</td>\n",
       "      <td>0</td>\n",
       "      <td>0</td>\n",
       "      <td>0</td>\n",
       "      <td>11</td>\n",
       "      <td>0</td>\n",
       "      <td>0</td>\n",
       "      <td>16</td>\n",
       "      <td>40</td>\n",
       "      <td>4</td>\n",
       "      <td>23</td>\n",
       "      <td>1052</td>\n",
       "      <td>29822</td>\n",
       "    </tr>\n",
       "    <tr>\n",
       "      <th>3</th>\n",
       "      <td>다사5858</td>\n",
       "      <td>0</td>\n",
       "      <td>1</td>\n",
       "      <td>1</td>\n",
       "      <td>15</td>\n",
       "      <td>0</td>\n",
       "      <td>0</td>\n",
       "      <td>20</td>\n",
       "      <td>38</td>\n",
       "      <td>1</td>\n",
       "      <td>6</td>\n",
       "      <td>388</td>\n",
       "      <td>23787</td>\n",
       "    </tr>\n",
       "    <tr>\n",
       "      <th>4</th>\n",
       "      <td>다사5347</td>\n",
       "      <td>0</td>\n",
       "      <td>0</td>\n",
       "      <td>0</td>\n",
       "      <td>1</td>\n",
       "      <td>0</td>\n",
       "      <td>1</td>\n",
       "      <td>3</td>\n",
       "      <td>5</td>\n",
       "      <td>2</td>\n",
       "      <td>9</td>\n",
       "      <td>590</td>\n",
       "      <td>11880</td>\n",
       "    </tr>\n",
       "    <tr>\n",
       "      <th>...</th>\n",
       "      <td>...</td>\n",
       "      <td>...</td>\n",
       "      <td>...</td>\n",
       "      <td>...</td>\n",
       "      <td>...</td>\n",
       "      <td>...</td>\n",
       "      <td>...</td>\n",
       "      <td>...</td>\n",
       "      <td>...</td>\n",
       "      <td>...</td>\n",
       "      <td>...</td>\n",
       "      <td>...</td>\n",
       "      <td>...</td>\n",
       "    </tr>\n",
       "    <tr>\n",
       "      <th>599</th>\n",
       "      <td>다사4549</td>\n",
       "      <td>0</td>\n",
       "      <td>0</td>\n",
       "      <td>0</td>\n",
       "      <td>2</td>\n",
       "      <td>0</td>\n",
       "      <td>0</td>\n",
       "      <td>5</td>\n",
       "      <td>15</td>\n",
       "      <td>1</td>\n",
       "      <td>6</td>\n",
       "      <td>359</td>\n",
       "      <td>12768</td>\n",
       "    </tr>\n",
       "    <tr>\n",
       "      <th>600</th>\n",
       "      <td>다사5142</td>\n",
       "      <td>0</td>\n",
       "      <td>1</td>\n",
       "      <td>1</td>\n",
       "      <td>30</td>\n",
       "      <td>0</td>\n",
       "      <td>0</td>\n",
       "      <td>54</td>\n",
       "      <td>31</td>\n",
       "      <td>1</td>\n",
       "      <td>8</td>\n",
       "      <td>414</td>\n",
       "      <td>39634</td>\n",
       "    </tr>\n",
       "    <tr>\n",
       "      <th>601</th>\n",
       "      <td>다사5548</td>\n",
       "      <td>0</td>\n",
       "      <td>0</td>\n",
       "      <td>0</td>\n",
       "      <td>6</td>\n",
       "      <td>0</td>\n",
       "      <td>1</td>\n",
       "      <td>16</td>\n",
       "      <td>26</td>\n",
       "      <td>1</td>\n",
       "      <td>5</td>\n",
       "      <td>238</td>\n",
       "      <td>14329</td>\n",
       "    </tr>\n",
       "    <tr>\n",
       "      <th>602</th>\n",
       "      <td>다사5950</td>\n",
       "      <td>0</td>\n",
       "      <td>0</td>\n",
       "      <td>0</td>\n",
       "      <td>0</td>\n",
       "      <td>0</td>\n",
       "      <td>0</td>\n",
       "      <td>7</td>\n",
       "      <td>17</td>\n",
       "      <td>1</td>\n",
       "      <td>9</td>\n",
       "      <td>641</td>\n",
       "      <td>12767</td>\n",
       "    </tr>\n",
       "    <tr>\n",
       "      <th>603</th>\n",
       "      <td>다사5348</td>\n",
       "      <td>0</td>\n",
       "      <td>0</td>\n",
       "      <td>0</td>\n",
       "      <td>2</td>\n",
       "      <td>1</td>\n",
       "      <td>1</td>\n",
       "      <td>13</td>\n",
       "      <td>16</td>\n",
       "      <td>2</td>\n",
       "      <td>4</td>\n",
       "      <td>613</td>\n",
       "      <td>13113</td>\n",
       "    </tr>\n",
       "  </tbody>\n",
       "</table>\n",
       "<p>604 rows × 13 columns</p>\n",
       "</div>"
      ],
      "text/plain": [
       "        gid  심야약국  응급실  심_응  약국  소방서  경찰서  안전상비  버스정류소  지하철  어린이집  유아인구수  \\\n",
       "0    다사6453     0    0    0   2    0    0     3      5    0     3    411   \n",
       "1    다사5651     0    0    0   5    0    1    31     26    4     4    205   \n",
       "2    다사6157     0    0    0  11    0    0    16     40    4    23   1052   \n",
       "3    다사5858     0    1    1  15    0    0    20     38    1     6    388   \n",
       "4    다사5347     0    0    0   1    0    1     3      5    2     9    590   \n",
       "..      ...   ...  ...  ...  ..  ...  ...   ...    ...  ...   ...    ...   \n",
       "599  다사4549     0    0    0   2    0    0     5     15    1     6    359   \n",
       "600  다사5142     0    1    1  30    0    0    54     31    1     8    414   \n",
       "601  다사5548     0    0    0   6    0    1    16     26    1     5    238   \n",
       "602  다사5950     0    0    0   0    0    0     7     17    1     9    641   \n",
       "603  다사5348     0    0    0   2    1    1    13     16    2     4    613   \n",
       "\n",
       "      총인구수  \n",
       "0     9295  \n",
       "1    12478  \n",
       "2    29822  \n",
       "3    23787  \n",
       "4    11880  \n",
       "..     ...  \n",
       "599  12768  \n",
       "600  39634  \n",
       "601  14329  \n",
       "602  12767  \n",
       "603  13113  \n",
       "\n",
       "[604 rows x 13 columns]"
      ]
     },
     "execution_count": 2,
     "metadata": {},
     "output_type": "execute_result"
    }
   ],
   "source": [
    "Seoul = pd.read_csv('C:/Users/user/Desktop/서울/서울데이터_정제.csv', encoding='cp949')\n",
    "Seoul"
   ]
  },
  {
   "cell_type": "code",
   "execution_count": null,
   "id": "7ee68a9b",
   "metadata": {},
   "outputs": [],
   "source": []
  },
  {
   "cell_type": "code",
   "execution_count": 3,
   "id": "fd5cc9a2",
   "metadata": {},
   "outputs": [],
   "source": [
    "Seoul1 = Seoul.drop(['심야약국', '응급실'], axis=1)"
   ]
  },
  {
   "cell_type": "code",
   "execution_count": 4,
   "id": "5a9b2cd2",
   "metadata": {},
   "outputs": [],
   "source": [
    "X = Seoul1.drop(['심_응'], axis=1) \n",
    "y = Seoul1['심_응']"
   ]
  },
  {
   "cell_type": "code",
   "execution_count": 5,
   "id": "637d82d8",
   "metadata": {},
   "outputs": [
    {
     "data": {
      "text/plain": [
       "0    513\n",
       "1     91\n",
       "Name: 심_응, dtype: int64"
      ]
     },
     "execution_count": 5,
     "metadata": {},
     "output_type": "execute_result"
    }
   ],
   "source": [
    "y.value_counts()"
   ]
  },
  {
   "cell_type": "code",
   "execution_count": null,
   "id": "f52a5e7c",
   "metadata": {},
   "outputs": [],
   "source": []
  },
  {
   "cell_type": "code",
   "execution_count": 6,
   "id": "a8cd3f90",
   "metadata": {},
   "outputs": [],
   "source": [
    "# 랜덤 추출\n",
    "from sklearn.model_selection import train_test_split\n",
    "X_train_s,X_test_s,y_train_s,y_test_s = train_test_split(X, y, test_size=0.3, random_state=2) # random_state는 seed값"
   ]
  },
  {
   "cell_type": "code",
   "execution_count": 7,
   "id": "0fe97ff5",
   "metadata": {
    "scrolled": true
   },
   "outputs": [
    {
     "data": {
      "text/plain": [
       "0    360\n",
       "1     62\n",
       "Name: 심_응, dtype: int64"
      ]
     },
     "execution_count": 7,
     "metadata": {},
     "output_type": "execute_result"
    }
   ],
   "source": [
    "y_train_s.value_counts()"
   ]
  },
  {
   "cell_type": "code",
   "execution_count": 8,
   "id": "ecacd9e4",
   "metadata": {},
   "outputs": [
    {
     "data": {
      "text/plain": [
       "0    153\n",
       "1     29\n",
       "Name: 심_응, dtype: int64"
      ]
     },
     "execution_count": 8,
     "metadata": {},
     "output_type": "execute_result"
    }
   ],
   "source": [
    "y_test_s.value_counts()"
   ]
  },
  {
   "cell_type": "code",
   "execution_count": null,
   "id": "23102684",
   "metadata": {},
   "outputs": [],
   "source": []
  },
  {
   "cell_type": "code",
   "execution_count": 9,
   "id": "4dea7603",
   "metadata": {},
   "outputs": [],
   "source": [
    "from sklearn.metrics import accuracy_score\n",
    "from sklearn.metrics import precision_score\n",
    "from sklearn.metrics import recall_score\n",
    "from sklearn.metrics import f1_score\n",
    "from sklearn.metrics import roc_auc_score\n",
    "\n",
    "# 모델링\n",
    "def modeling(model,x_train,x_test,y_train,y_test):\n",
    "    model.fit(x_train,y_train)\n",
    "    pred = model.predict(x_test)\n",
    "    metrics(y_test,pred)\n",
    "    \n",
    "# 평가 지표\n",
    "def metrics(y_test,pred):\n",
    "    accuracy = accuracy_score(y_test,pred)\n",
    "    precision = precision_score(y_test,pred)\n",
    "    recall = recall_score(y_test,pred)\n",
    "    f1 = f1_score(y_test,pred)\n",
    "    print('정확도 : {0:.2f}, 정밀도 : {1:.2f}, 재현율 : {2:.2f}'.format(accuracy,precision,recall))\n",
    "    print('f1-score : {0:.2f}'.format(f1))"
   ]
  },
  {
   "cell_type": "code",
   "execution_count": null,
   "id": "aa055734",
   "metadata": {},
   "outputs": [],
   "source": []
  },
  {
   "cell_type": "code",
   "execution_count": 10,
   "id": "6447c893",
   "metadata": {
    "scrolled": true
   },
   "outputs": [
    {
     "name": "stdout",
     "output_type": "stream",
     "text": [
      "정확도 : 0.81, 정밀도 : 0.31, 재현율 : 0.14\n",
      "f1-score : 0.19\n"
     ]
    }
   ],
   "source": [
    "# Logistic Regression : 모든 변수\n",
    "from sklearn.linear_model import LogisticRegression\n",
    "lr = LogisticRegression()\n",
    "modeling(lr, X_train_s.iloc[:,1:], X_test_s.iloc[:,1:], y_train_s, y_test_s)"
   ]
  },
  {
   "cell_type": "code",
   "execution_count": 11,
   "id": "6c88b0c6",
   "metadata": {},
   "outputs": [
    {
     "name": "stdout",
     "output_type": "stream",
     "text": [
      "정확도 : 0.84, 정밀도 : 0.00, 재현율 : 0.00\n",
      "f1-score : 0.00\n"
     ]
    }
   ],
   "source": [
    "# 모두 0이라고 했을 때 : 로지스틱이 정확도가 더 떨어짐\n",
    "pred = np.zeros(182)\n",
    "metrics(y_test_s, pred)"
   ]
  },
  {
   "cell_type": "code",
   "execution_count": null,
   "id": "0e740279",
   "metadata": {},
   "outputs": [],
   "source": []
  },
  {
   "cell_type": "code",
   "execution_count": 12,
   "id": "b5555668",
   "metadata": {},
   "outputs": [],
   "source": [
    "# 층화 무작위 추출\n",
    "from sklearn.model_selection import train_test_split\n",
    "X_train_c,X_test_c,y_train_c,y_test_c = train_test_split(X, y, test_size=0.3, random_state=20, stratify=y)\n",
    "\n",
    "# 상수항 추가\n",
    "import statsmodels.api as sm\n",
    "X_train_cc = sm.add_constant(X_train_c.iloc[:,1:])\n",
    "X_test_cc = sm.add_constant(X_test_c.iloc[:,1:])"
   ]
  },
  {
   "cell_type": "code",
   "execution_count": null,
   "id": "d9ed904d",
   "metadata": {},
   "outputs": [],
   "source": []
  },
  {
   "cell_type": "code",
   "execution_count": 13,
   "id": "e2a3082e",
   "metadata": {},
   "outputs": [
    {
     "name": "stdout",
     "output_type": "stream",
     "text": [
      "정확도 : 0.84, 정밀도 : 0.33, 재현율 : 0.11\n",
      "f1-score : 0.17\n"
     ]
    }
   ],
   "source": [
    "# Logistic Regression : 모든 변수\n",
    "lr = LogisticRegression()\n",
    "modeling(lr, X_train_cc, X_test_cc, y_train_c, y_test_c)"
   ]
  },
  {
   "cell_type": "code",
   "execution_count": 14,
   "id": "72863bb8",
   "metadata": {},
   "outputs": [
    {
     "name": "stdout",
     "output_type": "stream",
     "text": [
      "Optimization terminated successfully.\n",
      "         Current function value: 0.338752\n",
      "         Iterations 7\n"
     ]
    },
    {
     "data": {
      "text/html": [
       "<table class=\"simpletable\">\n",
       "<caption>Logit Regression Results</caption>\n",
       "<tr>\n",
       "  <th>Dep. Variable:</th>          <td>심_응</td>       <th>  No. Observations:  </th>  <td>   422</td>  \n",
       "</tr>\n",
       "<tr>\n",
       "  <th>Model:</th>                 <td>Logit</td>      <th>  Df Residuals:      </th>  <td>   412</td>  \n",
       "</tr>\n",
       "<tr>\n",
       "  <th>Method:</th>                 <td>MLE</td>       <th>  Df Model:          </th>  <td>     9</td>  \n",
       "</tr>\n",
       "<tr>\n",
       "  <th>Date:</th>            <td>Wed, 11 Jan 2023</td> <th>  Pseudo R-squ.:     </th>  <td>0.2040</td>  \n",
       "</tr>\n",
       "<tr>\n",
       "  <th>Time:</th>                <td>22:42:34</td>     <th>  Log-Likelihood:    </th> <td> -142.95</td> \n",
       "</tr>\n",
       "<tr>\n",
       "  <th>converged:</th>             <td>True</td>       <th>  LL-Null:           </th> <td> -179.59</td> \n",
       "</tr>\n",
       "<tr>\n",
       "  <th>Covariance Type:</th>     <td>nonrobust</td>    <th>  LLR p-value:       </th> <td>3.453e-12</td>\n",
       "</tr>\n",
       "</table>\n",
       "<table class=\"simpletable\">\n",
       "<tr>\n",
       "    <td></td>       <th>coef</th>     <th>std err</th>      <th>z</th>      <th>P>|z|</th>  <th>[0.025</th>    <th>0.975]</th>  \n",
       "</tr>\n",
       "<tr>\n",
       "  <th>const</th> <td>   -3.3985</td> <td>    0.385</td> <td>   -8.839</td> <td> 0.000</td> <td>   -4.152</td> <td>   -2.645</td>\n",
       "</tr>\n",
       "<tr>\n",
       "  <th>약국</th>    <td>    0.1007</td> <td>    0.030</td> <td>    3.306</td> <td> 0.001</td> <td>    0.041</td> <td>    0.160</td>\n",
       "</tr>\n",
       "<tr>\n",
       "  <th>소방서</th>   <td>    1.0596</td> <td>    0.571</td> <td>    1.856</td> <td> 0.063</td> <td>   -0.059</td> <td>    2.178</td>\n",
       "</tr>\n",
       "<tr>\n",
       "  <th>경찰서</th>   <td>   -0.1349</td> <td>    0.242</td> <td>   -0.559</td> <td> 0.576</td> <td>   -0.608</td> <td>    0.338</td>\n",
       "</tr>\n",
       "<tr>\n",
       "  <th>안전상비</th>  <td>    0.0042</td> <td>    0.024</td> <td>    0.175</td> <td> 0.861</td> <td>   -0.043</td> <td>    0.051</td>\n",
       "</tr>\n",
       "<tr>\n",
       "  <th>버스정류소</th> <td>    0.0195</td> <td>    0.015</td> <td>    1.268</td> <td> 0.205</td> <td>   -0.011</td> <td>    0.050</td>\n",
       "</tr>\n",
       "<tr>\n",
       "  <th>지하철</th>   <td>   -0.1328</td> <td>    0.172</td> <td>   -0.771</td> <td> 0.441</td> <td>   -0.470</td> <td>    0.205</td>\n",
       "</tr>\n",
       "<tr>\n",
       "  <th>어린이집</th>  <td>    0.0587</td> <td>    0.042</td> <td>    1.382</td> <td> 0.167</td> <td>   -0.025</td> <td>    0.142</td>\n",
       "</tr>\n",
       "<tr>\n",
       "  <th>유아인구수</th> <td>   -0.0022</td> <td>    0.001</td> <td>   -2.338</td> <td> 0.019</td> <td>   -0.004</td> <td>   -0.000</td>\n",
       "</tr>\n",
       "<tr>\n",
       "  <th>총인구수</th>  <td> 4.784e-05</td> <td> 3.53e-05</td> <td>    1.356</td> <td> 0.175</td> <td>-2.13e-05</td> <td>    0.000</td>\n",
       "</tr>\n",
       "</table>"
      ],
      "text/plain": [
       "<class 'statsmodels.iolib.summary.Summary'>\n",
       "\"\"\"\n",
       "                           Logit Regression Results                           \n",
       "==============================================================================\n",
       "Dep. Variable:                    심_응   No. Observations:                  422\n",
       "Model:                          Logit   Df Residuals:                      412\n",
       "Method:                           MLE   Df Model:                            9\n",
       "Date:                Wed, 11 Jan 2023   Pseudo R-squ.:                  0.2040\n",
       "Time:                        22:42:34   Log-Likelihood:                -142.95\n",
       "converged:                       True   LL-Null:                       -179.59\n",
       "Covariance Type:            nonrobust   LLR p-value:                 3.453e-12\n",
       "==============================================================================\n",
       "                 coef    std err          z      P>|z|      [0.025      0.975]\n",
       "------------------------------------------------------------------------------\n",
       "const         -3.3985      0.385     -8.839      0.000      -4.152      -2.645\n",
       "약국             0.1007      0.030      3.306      0.001       0.041       0.160\n",
       "소방서            1.0596      0.571      1.856      0.063      -0.059       2.178\n",
       "경찰서           -0.1349      0.242     -0.559      0.576      -0.608       0.338\n",
       "안전상비           0.0042      0.024      0.175      0.861      -0.043       0.051\n",
       "버스정류소          0.0195      0.015      1.268      0.205      -0.011       0.050\n",
       "지하철           -0.1328      0.172     -0.771      0.441      -0.470       0.205\n",
       "어린이집           0.0587      0.042      1.382      0.167      -0.025       0.142\n",
       "유아인구수         -0.0022      0.001     -2.338      0.019      -0.004      -0.000\n",
       "총인구수        4.784e-05   3.53e-05      1.356      0.175   -2.13e-05       0.000\n",
       "==============================================================================\n",
       "\"\"\""
      ]
     },
     "execution_count": 14,
     "metadata": {},
     "output_type": "execute_result"
    }
   ],
   "source": [
    "model = sm.Logit(y_train_c, X_train_cc)\n",
    "result = model.fit()\n",
    "result.summary()"
   ]
  },
  {
   "cell_type": "code",
   "execution_count": null,
   "id": "a8698afe",
   "metadata": {},
   "outputs": [],
   "source": []
  },
  {
   "cell_type": "code",
   "execution_count": 15,
   "id": "821bd4b9",
   "metadata": {},
   "outputs": [
    {
     "name": "stdout",
     "output_type": "stream",
     "text": [
      "정확도 : 0.85, 정밀도 : 0.50, 재현율 : 0.11\n",
      "f1-score : 0.18\n"
     ]
    }
   ],
   "source": [
    "# Logistic Regression : 일부 변수\n",
    "lr = LogisticRegression()\n",
    "modeling(lr, X_train_cc.iloc[:,[0,1,2,8,9]], X_test_cc.iloc[:,[0,1,2,8,9]], y_train_c, y_test_c)"
   ]
  },
  {
   "cell_type": "code",
   "execution_count": 16,
   "id": "6f6de2d2",
   "metadata": {},
   "outputs": [
    {
     "name": "stdout",
     "output_type": "stream",
     "text": [
      "Optimization terminated successfully.\n",
      "         Current function value: 0.343575\n",
      "         Iterations 7\n"
     ]
    },
    {
     "data": {
      "text/html": [
       "<table class=\"simpletable\">\n",
       "<caption>Logit Regression Results</caption>\n",
       "<tr>\n",
       "  <th>Dep. Variable:</th>          <td>심_응</td>       <th>  No. Observations:  </th>  <td>   422</td>  \n",
       "</tr>\n",
       "<tr>\n",
       "  <th>Model:</th>                 <td>Logit</td>      <th>  Df Residuals:      </th>  <td>   417</td>  \n",
       "</tr>\n",
       "<tr>\n",
       "  <th>Method:</th>                 <td>MLE</td>       <th>  Df Model:          </th>  <td>     4</td>  \n",
       "</tr>\n",
       "<tr>\n",
       "  <th>Date:</th>            <td>Wed, 11 Jan 2023</td> <th>  Pseudo R-squ.:     </th>  <td>0.1927</td>  \n",
       "</tr>\n",
       "<tr>\n",
       "  <th>Time:</th>                <td>22:42:34</td>     <th>  Log-Likelihood:    </th> <td> -144.99</td> \n",
       "</tr>\n",
       "<tr>\n",
       "  <th>converged:</th>             <td>True</td>       <th>  LL-Null:           </th> <td> -179.59</td> \n",
       "</tr>\n",
       "<tr>\n",
       "  <th>Covariance Type:</th>     <td>nonrobust</td>    <th>  LLR p-value:       </th> <td>3.335e-14</td>\n",
       "</tr>\n",
       "</table>\n",
       "<table class=\"simpletable\">\n",
       "<tr>\n",
       "    <td></td>       <th>coef</th>     <th>std err</th>      <th>z</th>      <th>P>|z|</th>  <th>[0.025</th>    <th>0.975]</th>  \n",
       "</tr>\n",
       "<tr>\n",
       "  <th>const</th> <td>   -3.2023</td> <td>    0.333</td> <td>   -9.613</td> <td> 0.000</td> <td>   -3.855</td> <td>   -2.549</td>\n",
       "</tr>\n",
       "<tr>\n",
       "  <th>약국</th>    <td>    0.1006</td> <td>    0.020</td> <td>    5.076</td> <td> 0.000</td> <td>    0.062</td> <td>    0.139</td>\n",
       "</tr>\n",
       "<tr>\n",
       "  <th>소방서</th>   <td>    1.2118</td> <td>    0.564</td> <td>    2.147</td> <td> 0.032</td> <td>    0.106</td> <td>    2.318</td>\n",
       "</tr>\n",
       "<tr>\n",
       "  <th>유아인구수</th> <td>   -0.0018</td> <td>    0.001</td> <td>   -2.326</td> <td> 0.020</td> <td>   -0.003</td> <td>   -0.000</td>\n",
       "</tr>\n",
       "<tr>\n",
       "  <th>총인구수</th>  <td> 7.186e-05</td> <td> 2.88e-05</td> <td>    2.495</td> <td> 0.013</td> <td> 1.54e-05</td> <td>    0.000</td>\n",
       "</tr>\n",
       "</table>"
      ],
      "text/plain": [
       "<class 'statsmodels.iolib.summary.Summary'>\n",
       "\"\"\"\n",
       "                           Logit Regression Results                           \n",
       "==============================================================================\n",
       "Dep. Variable:                    심_응   No. Observations:                  422\n",
       "Model:                          Logit   Df Residuals:                      417\n",
       "Method:                           MLE   Df Model:                            4\n",
       "Date:                Wed, 11 Jan 2023   Pseudo R-squ.:                  0.1927\n",
       "Time:                        22:42:34   Log-Likelihood:                -144.99\n",
       "converged:                       True   LL-Null:                       -179.59\n",
       "Covariance Type:            nonrobust   LLR p-value:                 3.335e-14\n",
       "==============================================================================\n",
       "                 coef    std err          z      P>|z|      [0.025      0.975]\n",
       "------------------------------------------------------------------------------\n",
       "const         -3.2023      0.333     -9.613      0.000      -3.855      -2.549\n",
       "약국             0.1006      0.020      5.076      0.000       0.062       0.139\n",
       "소방서            1.2118      0.564      2.147      0.032       0.106       2.318\n",
       "유아인구수         -0.0018      0.001     -2.326      0.020      -0.003      -0.000\n",
       "총인구수        7.186e-05   2.88e-05      2.495      0.013    1.54e-05       0.000\n",
       "==============================================================================\n",
       "\"\"\""
      ]
     },
     "execution_count": 16,
     "metadata": {},
     "output_type": "execute_result"
    }
   ],
   "source": [
    "model = sm.Logit(y_train_c, X_train_cc.iloc[:,[0,1,2,8,9]])\n",
    "result = model.fit()\n",
    "result.summary()"
   ]
  },
  {
   "cell_type": "code",
   "execution_count": null,
   "id": "3469dc1b",
   "metadata": {},
   "outputs": [],
   "source": []
  },
  {
   "cell_type": "code",
   "execution_count": 17,
   "id": "936d934b",
   "metadata": {},
   "outputs": [
    {
     "name": "stdout",
     "output_type": "stream",
     "text": [
      "SMOTE 적용 전 학습용 피처/레이블 데이터 세트:  (422, 10) (422,)\n",
      "SMOTE 적용 후 학습용 피처/레이블 데이터 세트:  (716, 10) (716,)\n",
      "SMOTE 적용 후 레이블 값 분포: \n",
      " 0    358\n",
      "1    358\n",
      "Name: 심_응, dtype: int64\n"
     ]
    }
   ],
   "source": [
    "# SMOTE (oversampling)\n",
    "from imblearn.over_sampling import SMOTE\n",
    "smote = SMOTE(random_state=200)\n",
    "X_train_over,y_train_over = smote.fit_resample(X_train_cc, y_train_c)\n",
    "\n",
    "print('SMOTE 적용 전 학습용 피처/레이블 데이터 세트: ', X_train_cc.shape, y_train_c.shape)\n",
    "print('SMOTE 적용 후 학습용 피처/레이블 데이터 세트: ', X_train_over.shape, y_train_over.shape)\n",
    "print('SMOTE 적용 후 레이블 값 분포: \\n', pd.Series(y_train_over).value_counts())"
   ]
  },
  {
   "cell_type": "code",
   "execution_count": null,
   "id": "403b84cf",
   "metadata": {},
   "outputs": [],
   "source": []
  },
  {
   "cell_type": "code",
   "execution_count": 18,
   "id": "8ace3cd4",
   "metadata": {},
   "outputs": [
    {
     "name": "stdout",
     "output_type": "stream",
     "text": [
      "정확도 : 0.74, 정밀도 : 0.31, 재현율 : 0.63\n",
      "f1-score : 0.41\n"
     ]
    }
   ],
   "source": [
    "# Logistic Regression : 모든 변수\n",
    "lr = LogisticRegression()\n",
    "modeling(lr, X_train_over, X_test_cc, y_train_over, y_test_c)"
   ]
  },
  {
   "cell_type": "code",
   "execution_count": 19,
   "id": "72fc1cd6",
   "metadata": {
    "scrolled": false
   },
   "outputs": [
    {
     "name": "stdout",
     "output_type": "stream",
     "text": [
      "Optimization terminated successfully.\n",
      "         Current function value: 0.482774\n",
      "         Iterations 6\n"
     ]
    },
    {
     "data": {
      "text/html": [
       "<table class=\"simpletable\">\n",
       "<caption>Logit Regression Results</caption>\n",
       "<tr>\n",
       "  <th>Dep. Variable:</th>          <td>심_응</td>       <th>  No. Observations:  </th>  <td>   716</td>  \n",
       "</tr>\n",
       "<tr>\n",
       "  <th>Model:</th>                 <td>Logit</td>      <th>  Df Residuals:      </th>  <td>   706</td>  \n",
       "</tr>\n",
       "<tr>\n",
       "  <th>Method:</th>                 <td>MLE</td>       <th>  Df Model:          </th>  <td>     9</td>  \n",
       "</tr>\n",
       "<tr>\n",
       "  <th>Date:</th>            <td>Wed, 11 Jan 2023</td> <th>  Pseudo R-squ.:     </th>  <td>0.3035</td>  \n",
       "</tr>\n",
       "<tr>\n",
       "  <th>Time:</th>                <td>22:42:34</td>     <th>  Log-Likelihood:    </th> <td> -345.67</td> \n",
       "</tr>\n",
       "<tr>\n",
       "  <th>converged:</th>             <td>True</td>       <th>  LL-Null:           </th> <td> -496.29</td> \n",
       "</tr>\n",
       "<tr>\n",
       "  <th>Covariance Type:</th>     <td>nonrobust</td>    <th>  LLR p-value:       </th> <td>1.414e-59</td>\n",
       "</tr>\n",
       "</table>\n",
       "<table class=\"simpletable\">\n",
       "<tr>\n",
       "    <td></td>       <th>coef</th>     <th>std err</th>      <th>z</th>      <th>P>|z|</th>  <th>[0.025</th>    <th>0.975]</th>  \n",
       "</tr>\n",
       "<tr>\n",
       "  <th>const</th> <td>   -1.8643</td> <td>    0.212</td> <td>   -8.784</td> <td> 0.000</td> <td>   -2.280</td> <td>   -1.448</td>\n",
       "</tr>\n",
       "<tr>\n",
       "  <th>약국</th>    <td>    0.1773</td> <td>    0.024</td> <td>    7.365</td> <td> 0.000</td> <td>    0.130</td> <td>    0.225</td>\n",
       "</tr>\n",
       "<tr>\n",
       "  <th>소방서</th>   <td>    0.0764</td> <td>    0.492</td> <td>    0.155</td> <td> 0.877</td> <td>   -0.889</td> <td>    1.041</td>\n",
       "</tr>\n",
       "<tr>\n",
       "  <th>경찰서</th>   <td>   -0.6412</td> <td>    0.176</td> <td>   -3.635</td> <td> 0.000</td> <td>   -0.987</td> <td>   -0.295</td>\n",
       "</tr>\n",
       "<tr>\n",
       "  <th>안전상비</th>  <td>    0.0264</td> <td>    0.018</td> <td>    1.488</td> <td> 0.137</td> <td>   -0.008</td> <td>    0.061</td>\n",
       "</tr>\n",
       "<tr>\n",
       "  <th>버스정류소</th> <td>    0.0320</td> <td>    0.011</td> <td>    2.853</td> <td> 0.004</td> <td>    0.010</td> <td>    0.054</td>\n",
       "</tr>\n",
       "<tr>\n",
       "  <th>지하철</th>   <td>   -0.6545</td> <td>    0.126</td> <td>   -5.199</td> <td> 0.000</td> <td>   -0.901</td> <td>   -0.408</td>\n",
       "</tr>\n",
       "<tr>\n",
       "  <th>어린이집</th>  <td>    0.0606</td> <td>    0.033</td> <td>    1.814</td> <td> 0.070</td> <td>   -0.005</td> <td>    0.126</td>\n",
       "</tr>\n",
       "<tr>\n",
       "  <th>유아인구수</th> <td>   -0.0023</td> <td>    0.001</td> <td>   -3.364</td> <td> 0.001</td> <td>   -0.004</td> <td>   -0.001</td>\n",
       "</tr>\n",
       "<tr>\n",
       "  <th>총인구수</th>  <td> 9.793e-06</td> <td> 2.67e-05</td> <td>    0.367</td> <td> 0.714</td> <td>-4.25e-05</td> <td> 6.21e-05</td>\n",
       "</tr>\n",
       "</table>"
      ],
      "text/plain": [
       "<class 'statsmodels.iolib.summary.Summary'>\n",
       "\"\"\"\n",
       "                           Logit Regression Results                           \n",
       "==============================================================================\n",
       "Dep. Variable:                    심_응   No. Observations:                  716\n",
       "Model:                          Logit   Df Residuals:                      706\n",
       "Method:                           MLE   Df Model:                            9\n",
       "Date:                Wed, 11 Jan 2023   Pseudo R-squ.:                  0.3035\n",
       "Time:                        22:42:34   Log-Likelihood:                -345.67\n",
       "converged:                       True   LL-Null:                       -496.29\n",
       "Covariance Type:            nonrobust   LLR p-value:                 1.414e-59\n",
       "==============================================================================\n",
       "                 coef    std err          z      P>|z|      [0.025      0.975]\n",
       "------------------------------------------------------------------------------\n",
       "const         -1.8643      0.212     -8.784      0.000      -2.280      -1.448\n",
       "약국             0.1773      0.024      7.365      0.000       0.130       0.225\n",
       "소방서            0.0764      0.492      0.155      0.877      -0.889       1.041\n",
       "경찰서           -0.6412      0.176     -3.635      0.000      -0.987      -0.295\n",
       "안전상비           0.0264      0.018      1.488      0.137      -0.008       0.061\n",
       "버스정류소          0.0320      0.011      2.853      0.004       0.010       0.054\n",
       "지하철           -0.6545      0.126     -5.199      0.000      -0.901      -0.408\n",
       "어린이집           0.0606      0.033      1.814      0.070      -0.005       0.126\n",
       "유아인구수         -0.0023      0.001     -3.364      0.001      -0.004      -0.001\n",
       "총인구수        9.793e-06   2.67e-05      0.367      0.714   -4.25e-05    6.21e-05\n",
       "==============================================================================\n",
       "\"\"\""
      ]
     },
     "execution_count": 19,
     "metadata": {},
     "output_type": "execute_result"
    }
   ],
   "source": [
    "model = sm.Logit(y_train_over, X_train_over)\n",
    "result = model.fit()\n",
    "result.summary()"
   ]
  },
  {
   "cell_type": "code",
   "execution_count": null,
   "id": "94c31b9f",
   "metadata": {},
   "outputs": [],
   "source": []
  },
  {
   "cell_type": "code",
   "execution_count": 20,
   "id": "a2308a4d",
   "metadata": {},
   "outputs": [
    {
     "name": "stdout",
     "output_type": "stream",
     "text": [
      "Optimization terminated successfully.\n",
      "         Current function value: 0.482791\n",
      "         Iterations 6\n"
     ]
    },
    {
     "data": {
      "text/html": [
       "<table class=\"simpletable\">\n",
       "<caption>Logit Regression Results</caption>\n",
       "<tr>\n",
       "  <th>Dep. Variable:</th>          <td>심_응</td>       <th>  No. Observations:  </th>  <td>   716</td>  \n",
       "</tr>\n",
       "<tr>\n",
       "  <th>Model:</th>                 <td>Logit</td>      <th>  Df Residuals:      </th>  <td>   707</td>  \n",
       "</tr>\n",
       "<tr>\n",
       "  <th>Method:</th>                 <td>MLE</td>       <th>  Df Model:          </th>  <td>     8</td>  \n",
       "</tr>\n",
       "<tr>\n",
       "  <th>Date:</th>            <td>Wed, 11 Jan 2023</td> <th>  Pseudo R-squ.:     </th>  <td>0.3035</td>  \n",
       "</tr>\n",
       "<tr>\n",
       "  <th>Time:</th>                <td>22:42:34</td>     <th>  Log-Likelihood:    </th> <td> -345.68</td> \n",
       "</tr>\n",
       "<tr>\n",
       "  <th>converged:</th>             <td>True</td>       <th>  LL-Null:           </th> <td> -496.29</td> \n",
       "</tr>\n",
       "<tr>\n",
       "  <th>Covariance Type:</th>     <td>nonrobust</td>    <th>  LLR p-value:       </th> <td>2.253e-60</td>\n",
       "</tr>\n",
       "</table>\n",
       "<table class=\"simpletable\">\n",
       "<tr>\n",
       "    <td></td>       <th>coef</th>     <th>std err</th>      <th>z</th>      <th>P>|z|</th>  <th>[0.025</th>    <th>0.975]</th>  \n",
       "</tr>\n",
       "<tr>\n",
       "  <th>const</th> <td>   -1.8614</td> <td>    0.211</td> <td>   -8.809</td> <td> 0.000</td> <td>   -2.276</td> <td>   -1.447</td>\n",
       "</tr>\n",
       "<tr>\n",
       "  <th>약국</th>    <td>    0.1774</td> <td>    0.024</td> <td>    7.365</td> <td> 0.000</td> <td>    0.130</td> <td>    0.225</td>\n",
       "</tr>\n",
       "<tr>\n",
       "  <th>경찰서</th>   <td>   -0.6422</td> <td>    0.176</td> <td>   -3.642</td> <td> 0.000</td> <td>   -0.988</td> <td>   -0.297</td>\n",
       "</tr>\n",
       "<tr>\n",
       "  <th>안전상비</th>  <td>    0.0262</td> <td>    0.018</td> <td>    1.481</td> <td> 0.139</td> <td>   -0.008</td> <td>    0.061</td>\n",
       "</tr>\n",
       "<tr>\n",
       "  <th>버스정류소</th> <td>    0.0321</td> <td>    0.011</td> <td>    2.871</td> <td> 0.004</td> <td>    0.010</td> <td>    0.054</td>\n",
       "</tr>\n",
       "<tr>\n",
       "  <th>지하철</th>   <td>   -0.6531</td> <td>    0.126</td> <td>   -5.203</td> <td> 0.000</td> <td>   -0.899</td> <td>   -0.407</td>\n",
       "</tr>\n",
       "<tr>\n",
       "  <th>어린이집</th>  <td>    0.0611</td> <td>    0.033</td> <td>    1.835</td> <td> 0.067</td> <td>   -0.004</td> <td>    0.126</td>\n",
       "</tr>\n",
       "<tr>\n",
       "  <th>유아인구수</th> <td>   -0.0023</td> <td>    0.001</td> <td>   -3.380</td> <td> 0.001</td> <td>   -0.004</td> <td>   -0.001</td>\n",
       "</tr>\n",
       "<tr>\n",
       "  <th>총인구수</th>  <td> 9.761e-06</td> <td> 2.67e-05</td> <td>    0.365</td> <td> 0.715</td> <td>-4.26e-05</td> <td> 6.21e-05</td>\n",
       "</tr>\n",
       "</table>"
      ],
      "text/plain": [
       "<class 'statsmodels.iolib.summary.Summary'>\n",
       "\"\"\"\n",
       "                           Logit Regression Results                           \n",
       "==============================================================================\n",
       "Dep. Variable:                    심_응   No. Observations:                  716\n",
       "Model:                          Logit   Df Residuals:                      707\n",
       "Method:                           MLE   Df Model:                            8\n",
       "Date:                Wed, 11 Jan 2023   Pseudo R-squ.:                  0.3035\n",
       "Time:                        22:42:34   Log-Likelihood:                -345.68\n",
       "converged:                       True   LL-Null:                       -496.29\n",
       "Covariance Type:            nonrobust   LLR p-value:                 2.253e-60\n",
       "==============================================================================\n",
       "                 coef    std err          z      P>|z|      [0.025      0.975]\n",
       "------------------------------------------------------------------------------\n",
       "const         -1.8614      0.211     -8.809      0.000      -2.276      -1.447\n",
       "약국             0.1774      0.024      7.365      0.000       0.130       0.225\n",
       "경찰서           -0.6422      0.176     -3.642      0.000      -0.988      -0.297\n",
       "안전상비           0.0262      0.018      1.481      0.139      -0.008       0.061\n",
       "버스정류소          0.0321      0.011      2.871      0.004       0.010       0.054\n",
       "지하철           -0.6531      0.126     -5.203      0.000      -0.899      -0.407\n",
       "어린이집           0.0611      0.033      1.835      0.067      -0.004       0.126\n",
       "유아인구수         -0.0023      0.001     -3.380      0.001      -0.004      -0.001\n",
       "총인구수        9.761e-06   2.67e-05      0.365      0.715   -4.26e-05    6.21e-05\n",
       "==============================================================================\n",
       "\"\"\""
      ]
     },
     "execution_count": 20,
     "metadata": {},
     "output_type": "execute_result"
    }
   ],
   "source": [
    "# 변수 선택\n",
    "model = sm.Logit(y_train_over, X_train_over.iloc[:,[0,1,3,4,5,6,7,8,9]])\n",
    "result = model.fit()\n",
    "result.summary()"
   ]
  },
  {
   "cell_type": "code",
   "execution_count": 21,
   "id": "9c85b5ab",
   "metadata": {
    "scrolled": false
   },
   "outputs": [
    {
     "name": "stdout",
     "output_type": "stream",
     "text": [
      "Optimization terminated successfully.\n",
      "         Current function value: 0.482884\n",
      "         Iterations 6\n"
     ]
    },
    {
     "data": {
      "text/html": [
       "<table class=\"simpletable\">\n",
       "<caption>Logit Regression Results</caption>\n",
       "<tr>\n",
       "  <th>Dep. Variable:</th>          <td>심_응</td>       <th>  No. Observations:  </th>  <td>   716</td>  \n",
       "</tr>\n",
       "<tr>\n",
       "  <th>Model:</th>                 <td>Logit</td>      <th>  Df Residuals:      </th>  <td>   708</td>  \n",
       "</tr>\n",
       "<tr>\n",
       "  <th>Method:</th>                 <td>MLE</td>       <th>  Df Model:          </th>  <td>     7</td>  \n",
       "</tr>\n",
       "<tr>\n",
       "  <th>Date:</th>            <td>Wed, 11 Jan 2023</td> <th>  Pseudo R-squ.:     </th>  <td>0.3033</td>  \n",
       "</tr>\n",
       "<tr>\n",
       "  <th>Time:</th>                <td>22:42:34</td>     <th>  Log-Likelihood:    </th> <td> -345.74</td> \n",
       "</tr>\n",
       "<tr>\n",
       "  <th>converged:</th>             <td>True</td>       <th>  LL-Null:           </th> <td> -496.29</td> \n",
       "</tr>\n",
       "<tr>\n",
       "  <th>Covariance Type:</th>     <td>nonrobust</td>    <th>  LLR p-value:       </th> <td>3.528e-61</td>\n",
       "</tr>\n",
       "</table>\n",
       "<table class=\"simpletable\">\n",
       "<tr>\n",
       "    <td></td>       <th>coef</th>     <th>std err</th>      <th>z</th>      <th>P>|z|</th>  <th>[0.025</th>    <th>0.975]</th>  \n",
       "</tr>\n",
       "<tr>\n",
       "  <th>const</th> <td>   -1.8569</td> <td>    0.211</td> <td>   -8.807</td> <td> 0.000</td> <td>   -2.270</td> <td>   -1.444</td>\n",
       "</tr>\n",
       "<tr>\n",
       "  <th>약국</th>    <td>    0.1776</td> <td>    0.024</td> <td>    7.371</td> <td> 0.000</td> <td>    0.130</td> <td>    0.225</td>\n",
       "</tr>\n",
       "<tr>\n",
       "  <th>경찰서</th>   <td>   -0.6414</td> <td>    0.176</td> <td>   -3.635</td> <td> 0.000</td> <td>   -0.987</td> <td>   -0.296</td>\n",
       "</tr>\n",
       "<tr>\n",
       "  <th>안전상비</th>  <td>    0.0294</td> <td>    0.015</td> <td>    1.907</td> <td> 0.056</td> <td>   -0.001</td> <td>    0.060</td>\n",
       "</tr>\n",
       "<tr>\n",
       "  <th>버스정류소</th> <td>    0.0324</td> <td>    0.011</td> <td>    2.907</td> <td> 0.004</td> <td>    0.011</td> <td>    0.054</td>\n",
       "</tr>\n",
       "<tr>\n",
       "  <th>지하철</th>   <td>   -0.6598</td> <td>    0.124</td> <td>   -5.306</td> <td> 0.000</td> <td>   -0.904</td> <td>   -0.416</td>\n",
       "</tr>\n",
       "<tr>\n",
       "  <th>어린이집</th>  <td>    0.0637</td> <td>    0.032</td> <td>    1.962</td> <td> 0.050</td> <td>    6e-05</td> <td>    0.127</td>\n",
       "</tr>\n",
       "<tr>\n",
       "  <th>유아인구수</th> <td>   -0.0021</td> <td>    0.001</td> <td>   -4.158</td> <td> 0.000</td> <td>   -0.003</td> <td>   -0.001</td>\n",
       "</tr>\n",
       "</table>"
      ],
      "text/plain": [
       "<class 'statsmodels.iolib.summary.Summary'>\n",
       "\"\"\"\n",
       "                           Logit Regression Results                           \n",
       "==============================================================================\n",
       "Dep. Variable:                    심_응   No. Observations:                  716\n",
       "Model:                          Logit   Df Residuals:                      708\n",
       "Method:                           MLE   Df Model:                            7\n",
       "Date:                Wed, 11 Jan 2023   Pseudo R-squ.:                  0.3033\n",
       "Time:                        22:42:34   Log-Likelihood:                -345.74\n",
       "converged:                       True   LL-Null:                       -496.29\n",
       "Covariance Type:            nonrobust   LLR p-value:                 3.528e-61\n",
       "==============================================================================\n",
       "                 coef    std err          z      P>|z|      [0.025      0.975]\n",
       "------------------------------------------------------------------------------\n",
       "const         -1.8569      0.211     -8.807      0.000      -2.270      -1.444\n",
       "약국             0.1776      0.024      7.371      0.000       0.130       0.225\n",
       "경찰서           -0.6414      0.176     -3.635      0.000      -0.987      -0.296\n",
       "안전상비           0.0294      0.015      1.907      0.056      -0.001       0.060\n",
       "버스정류소          0.0324      0.011      2.907      0.004       0.011       0.054\n",
       "지하철           -0.6598      0.124     -5.306      0.000      -0.904      -0.416\n",
       "어린이집           0.0637      0.032      1.962      0.050       6e-05       0.127\n",
       "유아인구수         -0.0021      0.001     -4.158      0.000      -0.003      -0.001\n",
       "==============================================================================\n",
       "\"\"\""
      ]
     },
     "execution_count": 21,
     "metadata": {},
     "output_type": "execute_result"
    }
   ],
   "source": [
    "model = sm.Logit(y_train_over, X_train_over.iloc[:,[0,1,3,4,5,6,7,8]])\n",
    "result = model.fit()\n",
    "result.summary()"
   ]
  },
  {
   "cell_type": "code",
   "execution_count": null,
   "id": "53877f55",
   "metadata": {},
   "outputs": [],
   "source": []
  },
  {
   "cell_type": "code",
   "execution_count": 22,
   "id": "9c0f54c9",
   "metadata": {},
   "outputs": [
    {
     "name": "stdout",
     "output_type": "stream",
     "text": [
      "정확도 : 0.79, 정밀도 : 0.37, 재현율 : 0.63\n",
      "f1-score : 0.47\n"
     ]
    }
   ],
   "source": [
    "# Logistic Regression : 일부 변수\n",
    "lr = LogisticRegression()\n",
    "modeling(lr, X_train_over.iloc[:,[0,1,3,4,5,6,7,8]], X_test_cc.iloc[:,[0,1,3,4,5,6,7,8]], y_train_over, y_test_c)"
   ]
  },
  {
   "cell_type": "code",
   "execution_count": null,
   "id": "28ddc349",
   "metadata": {},
   "outputs": [],
   "source": []
  },
  {
   "cell_type": "code",
   "execution_count": 23,
   "id": "11d78e3b",
   "metadata": {},
   "outputs": [
    {
     "name": "stdout",
     "output_type": "stream",
     "text": [
      "정확도 : 0.86, 정밀도 : 0.58, 재현율 : 0.26\n",
      "f1-score : 0.36\n"
     ]
    }
   ],
   "source": [
    "# LGBM Classifier\n",
    "from lightgbm import LGBMClassifier\n",
    "lgb = LGBMClassifier(n_estimators=1000, num_leaves=64, n_jobs=-1, boost_from_average=False)\n",
    "modeling(lgb, X_train_cc.iloc[:,1:], X_test_cc.iloc[:,1:], y_train_c, y_test_c)"
   ]
  },
  {
   "cell_type": "code",
   "execution_count": 24,
   "id": "f084ef9e",
   "metadata": {},
   "outputs": [
    {
     "name": "stdout",
     "output_type": "stream",
     "text": [
      "정확도 : 0.81, 정밀도 : 0.36, 재현율 : 0.33\n",
      "f1-score : 0.35\n"
     ]
    }
   ],
   "source": [
    "# LGBM Classifier\n",
    "from lightgbm import LGBMClassifier\n",
    "lgb = LGBMClassifier(n_estimators=1000, num_leaves=64, n_jobs=-1, boost_from_average=False)\n",
    "modeling(lgb, X_train_over.iloc[:,1:], X_test_cc.iloc[:,1:], y_train_over, y_test_c)"
   ]
  },
  {
   "cell_type": "code",
   "execution_count": null,
   "id": "cf481d85",
   "metadata": {},
   "outputs": [],
   "source": []
  },
  {
   "cell_type": "code",
   "execution_count": 25,
   "id": "0fc3f135",
   "metadata": {},
   "outputs": [
    {
     "name": "stdout",
     "output_type": "stream",
     "text": [
      "정확도 : 0.86, 정밀도 : 0.57, 재현율 : 0.30\n",
      "f1-score : 0.39\n"
     ]
    }
   ],
   "source": [
    "# XGB Classifier\n",
    "import xgboost as Xgb\n",
    "xgb = Xgb.XGBClassifier()\n",
    "modeling(xgb, X_train_cc.iloc[:,1:], X_test_cc.iloc[:,1:], y_train_c, y_test_c)"
   ]
  },
  {
   "cell_type": "code",
   "execution_count": 26,
   "id": "d41d3d89",
   "metadata": {},
   "outputs": [
    {
     "name": "stdout",
     "output_type": "stream",
     "text": [
      "정확도 : 0.82, 정밀도 : 0.39, 재현율 : 0.41\n",
      "f1-score : 0.40\n"
     ]
    }
   ],
   "source": [
    "# XGB Classifier\n",
    "import xgboost as Xgb\n",
    "xgb = Xgb.XGBClassifier()\n",
    "modeling(xgb, X_train_over.iloc[:,1:], X_test_cc.iloc[:,1:], y_train_over, y_test_c)"
   ]
  },
  {
   "cell_type": "code",
   "execution_count": null,
   "id": "6e09e446",
   "metadata": {},
   "outputs": [],
   "source": []
  },
  {
   "cell_type": "code",
   "execution_count": 27,
   "id": "0a16cf15",
   "metadata": {},
   "outputs": [
    {
     "name": "stdout",
     "output_type": "stream",
     "text": [
      "정확도 : 0.79, 정밀도 : 0.26, 재현율 : 0.22\n",
      "f1-score : 0.24\n"
     ]
    }
   ],
   "source": [
    "# K Neighbors Classifier\n",
    "from sklearn.neighbors import KNeighborsClassifier\n",
    "knn = KNeighborsClassifier(n_neighbors=3)\n",
    "modeling(knn ,X_train_cc.iloc[:,1:], X_test_cc.iloc[:,1:], y_train_c, y_test_c)"
   ]
  },
  {
   "cell_type": "code",
   "execution_count": 28,
   "id": "73f08e63",
   "metadata": {},
   "outputs": [
    {
     "name": "stdout",
     "output_type": "stream",
     "text": [
      "정확도 : 0.64, 정밀도 : 0.20, 재현율 : 0.48\n",
      "f1-score : 0.28\n"
     ]
    }
   ],
   "source": [
    "# K Neighbors Classifier\n",
    "from sklearn.neighbors import KNeighborsClassifier\n",
    "knn = KNeighborsClassifier(n_neighbors=3)\n",
    "modeling(knn, X_train_over.iloc[:,1:], X_test_cc.iloc[:,1:], y_train_over, y_test_c)"
   ]
  },
  {
   "cell_type": "code",
   "execution_count": null,
   "id": "6a7d944b",
   "metadata": {},
   "outputs": [],
   "source": []
  },
  {
   "cell_type": "code",
   "execution_count": 29,
   "id": "824120f7",
   "metadata": {},
   "outputs": [
    {
     "name": "stdout",
     "output_type": "stream",
     "text": [
      "정확도 : 0.76, 정밀도 : 0.34, 재현율 : 0.63\n",
      "f1-score : 0.44\n"
     ]
    }
   ],
   "source": [
    "# Gaussian Naive Bayes\n",
    "from sklearn.naive_bayes import GaussianNB\n",
    "gaussian = GaussianNB()\n",
    "modeling(gaussian, X_train_cc.iloc[:,1:], X_test_cc.iloc[:,1:], y_train_c, y_test_c)"
   ]
  },
  {
   "cell_type": "code",
   "execution_count": 30,
   "id": "c902a022",
   "metadata": {},
   "outputs": [
    {
     "name": "stdout",
     "output_type": "stream",
     "text": [
      "정확도 : 0.66, 정밀도 : 0.28, 재현율 : 0.78\n",
      "f1-score : 0.41\n"
     ]
    }
   ],
   "source": [
    "# Gaussian Naive Bayes\n",
    "from sklearn.naive_bayes import GaussianNB\n",
    "gaussian = GaussianNB()\n",
    "modeling(gaussian, X_train_over.iloc[:,1:], X_test_cc.iloc[:,1:], y_train_over, y_test_c)"
   ]
  },
  {
   "cell_type": "code",
   "execution_count": null,
   "id": "f09d44e9",
   "metadata": {},
   "outputs": [],
   "source": []
  },
  {
   "cell_type": "code",
   "execution_count": 31,
   "id": "79fe3c90",
   "metadata": {},
   "outputs": [
    {
     "name": "stdout",
     "output_type": "stream",
     "text": [
      "정확도 : 0.80, 정밀도 : 0.32, 재현율 : 0.30\n",
      "f1-score : 0.31\n"
     ]
    }
   ],
   "source": [
    "# Decision Tree\n",
    "from sklearn.tree import DecisionTreeClassifier\n",
    "decision = DecisionTreeClassifier()\n",
    "modeling(decision, X_train_cc.iloc[:,1:], X_test_cc.iloc[:,1:], y_train_c, y_test_c)"
   ]
  },
  {
   "cell_type": "code",
   "execution_count": 32,
   "id": "679d44ed",
   "metadata": {},
   "outputs": [
    {
     "name": "stdout",
     "output_type": "stream",
     "text": [
      "정확도 : 0.82, 정밀도 : 0.41, 재현율 : 0.41\n",
      "f1-score : 0.41\n"
     ]
    }
   ],
   "source": [
    "# Decision Tree\n",
    "from sklearn.tree import DecisionTreeClassifier\n",
    "decision = DecisionTreeClassifier()\n",
    "modeling(decision, X_train_over.iloc[:,1:], X_test_cc.iloc[:,1:], y_train_over, y_test_c)"
   ]
  },
  {
   "cell_type": "code",
   "execution_count": null,
   "id": "696932ca",
   "metadata": {},
   "outputs": [],
   "source": []
  },
  {
   "cell_type": "code",
   "execution_count": 33,
   "id": "63a818b3",
   "metadata": {},
   "outputs": [
    {
     "name": "stdout",
     "output_type": "stream",
     "text": [
      "정확도 : 0.85, 정밀도 : 0.50, 재현율 : 0.15\n",
      "f1-score : 0.23\n"
     ]
    }
   ],
   "source": [
    "# Random Forest\n",
    "from sklearn.ensemble import RandomForestClassifier\n",
    "random_forest = RandomForestClassifier(n_estimators=100, random_state=300)\n",
    "modeling(random_forest, X_train_cc.iloc[:,1:], X_test_cc.iloc[:,1:], y_train_c, y_test_c)"
   ]
  },
  {
   "cell_type": "code",
   "execution_count": 34,
   "id": "2c5f5062",
   "metadata": {},
   "outputs": [
    {
     "name": "stdout",
     "output_type": "stream",
     "text": [
      "정확도 : 0.84, 정밀도 : 0.45, 재현율 : 0.52\n",
      "f1-score : 0.48\n"
     ]
    }
   ],
   "source": [
    "# Random Forest\n",
    "from sklearn.ensemble import RandomForestClassifier\n",
    "random_forest = RandomForestClassifier(n_estimators=100, random_state=300)\n",
    "modeling(random_forest, X_train_over.iloc[:,1:], X_test_cc.iloc[:,1:], y_train_over, y_test_c)"
   ]
  },
  {
   "cell_type": "code",
   "execution_count": null,
   "id": "2c04f888",
   "metadata": {},
   "outputs": [],
   "source": []
  },
  {
   "cell_type": "code",
   "execution_count": 35,
   "id": "90dd24b9",
   "metadata": {},
   "outputs": [
    {
     "name": "stdout",
     "output_type": "stream",
     "text": [
      "Feature importances:\n",
      "[0.259 0.004 0.031 0.138 0.139 0.042 0.102 0.124 0.161]\n",
      "약국 : 0.259\n",
      "소방서 : 0.004\n",
      "경찰서 : 0.031\n",
      "안전상비 : 0.138\n",
      "버스정류소 : 0.139\n",
      "지하철 : 0.042\n",
      "어린이집 : 0.102\n",
      "유아인구수 : 0.124\n",
      "총인구수 : 0.161\n"
     ]
    },
    {
     "data": {
      "text/plain": [
       "<AxesSubplot:>"
      ]
     },
     "execution_count": 35,
     "metadata": {},
     "output_type": "execute_result"
    },
    {
     "data": {
      "image/png": "[encoded data removed]",
      "text/plain": [
       "<Figure size 432x288 with 1 Axes>"
      ]
     },
     "metadata": {
      "needs_background": "light"
     },
     "output_type": "display_data"
    }
   ],
   "source": [
    "import seaborn as sns\n",
    "import numpy as np\n",
    "%matplotlib inline\n",
    "\n",
    "# feature importance 추출 \n",
    "print(\"Feature importances:\\n{0}\".format(np.round(random_forest.feature_importances_, 3)))\n",
    "\n",
    "# feature별 importance 매핑\n",
    "for name, value in zip(X_train_over.keys()[1:], random_forest.feature_importances_):\n",
    "    print('{0} : {1:.3f}'.format(name, value))\n",
    "    \n",
    "import matplotlib\n",
    "matplotlib.rcParams['font.family']='Malgun Gothic'\n",
    "matplotlib.rcParams['axes.unicode_minus']=False    \n",
    "\n",
    "# feature importance를 column별로 시각화 하기 \n",
    "sns.barplot(x=random_forest.feature_importances_, y=X_train_over.keys()[1:])"
   ]
  },
  {
   "cell_type": "code",
   "execution_count": null,
   "id": "44ed7733",
   "metadata": {},
   "outputs": [],
   "source": []
  },
  {
   "cell_type": "code",
   "execution_count": 36,
   "id": "8833f67a",
   "metadata": {},
   "outputs": [],
   "source": [
    "pd.set_option('display.max_rows', 500)\n",
    "\n",
    "Gyeonggi = pd.read_csv('C:/Users/user/Desktop/최종 프로젝트/경기데이터_정제.csv', encoding='cp949')"
   ]
  },
  {
   "cell_type": "code",
   "execution_count": 37,
   "id": "69ec145c",
   "metadata": {},
   "outputs": [
    {
     "data": {
      "text/html": [
       "<div>\n",
       "<style scoped>\n",
       "    .dataframe tbody tr th:only-of-type {\n",
       "        vertical-align: middle;\n",
       "    }\n",
       "\n",
       "    .dataframe tbody tr th {\n",
       "        vertical-align: top;\n",
       "    }\n",
       "\n",
       "    .dataframe thead th {\n",
       "        text-align: right;\n",
       "    }\n",
       "</style>\n",
       "<table border=\"1\" class=\"dataframe\">\n",
       "  <thead>\n",
       "    <tr style=\"text-align: right;\">\n",
       "      <th></th>\n",
       "      <th>gid</th>\n",
       "      <th>심_응</th>\n",
       "      <th>약국</th>\n",
       "      <th>소방서</th>\n",
       "      <th>경찰서</th>\n",
       "      <th>안전상비</th>\n",
       "      <th>버스정류소</th>\n",
       "      <th>지하철</th>\n",
       "      <th>어린이집</th>\n",
       "      <th>유아인구수</th>\n",
       "      <th>총인구수</th>\n",
       "    </tr>\n",
       "  </thead>\n",
       "  <tbody>\n",
       "    <tr>\n",
       "      <th>0</th>\n",
       "      <td>다바4791</td>\n",
       "      <td>0</td>\n",
       "      <td>1</td>\n",
       "      <td>0</td>\n",
       "      <td>0</td>\n",
       "      <td>4</td>\n",
       "      <td>17</td>\n",
       "      <td>0</td>\n",
       "      <td>28</td>\n",
       "      <td>1143</td>\n",
       "      <td>13274</td>\n",
       "    </tr>\n",
       "    <tr>\n",
       "      <th>1</th>\n",
       "      <td>다사5375</td>\n",
       "      <td>0</td>\n",
       "      <td>0</td>\n",
       "      <td>0</td>\n",
       "      <td>0</td>\n",
       "      <td>0</td>\n",
       "      <td>0</td>\n",
       "      <td>0</td>\n",
       "      <td>0</td>\n",
       "      <td>0</td>\n",
       "      <td>21</td>\n",
       "    </tr>\n",
       "    <tr>\n",
       "      <th>2</th>\n",
       "      <td>다사2014</td>\n",
       "      <td>0</td>\n",
       "      <td>0</td>\n",
       "      <td>0</td>\n",
       "      <td>0</td>\n",
       "      <td>0</td>\n",
       "      <td>0</td>\n",
       "      <td>0</td>\n",
       "      <td>0</td>\n",
       "      <td>0</td>\n",
       "      <td>160</td>\n",
       "    </tr>\n",
       "    <tr>\n",
       "      <th>3</th>\n",
       "      <td>라사0375</td>\n",
       "      <td>0</td>\n",
       "      <td>0</td>\n",
       "      <td>0</td>\n",
       "      <td>0</td>\n",
       "      <td>0</td>\n",
       "      <td>0</td>\n",
       "      <td>0</td>\n",
       "      <td>0</td>\n",
       "      <td>0</td>\n",
       "      <td>0</td>\n",
       "    </tr>\n",
       "    <tr>\n",
       "      <th>4</th>\n",
       "      <td>다사5631</td>\n",
       "      <td>0</td>\n",
       "      <td>0</td>\n",
       "      <td>0</td>\n",
       "      <td>0</td>\n",
       "      <td>0</td>\n",
       "      <td>10</td>\n",
       "      <td>0</td>\n",
       "      <td>0</td>\n",
       "      <td>0</td>\n",
       "      <td>70</td>\n",
       "    </tr>\n",
       "    <tr>\n",
       "      <th>...</th>\n",
       "      <td>...</td>\n",
       "      <td>...</td>\n",
       "      <td>...</td>\n",
       "      <td>...</td>\n",
       "      <td>...</td>\n",
       "      <td>...</td>\n",
       "      <td>...</td>\n",
       "      <td>...</td>\n",
       "      <td>...</td>\n",
       "      <td>...</td>\n",
       "      <td>...</td>\n",
       "    </tr>\n",
       "    <tr>\n",
       "      <th>8628</th>\n",
       "      <td>다사8823</td>\n",
       "      <td>0</td>\n",
       "      <td>0</td>\n",
       "      <td>0</td>\n",
       "      <td>0</td>\n",
       "      <td>0</td>\n",
       "      <td>0</td>\n",
       "      <td>0</td>\n",
       "      <td>0</td>\n",
       "      <td>0</td>\n",
       "      <td>9</td>\n",
       "    </tr>\n",
       "    <tr>\n",
       "      <th>8629</th>\n",
       "      <td>다사5197</td>\n",
       "      <td>0</td>\n",
       "      <td>0</td>\n",
       "      <td>0</td>\n",
       "      <td>0</td>\n",
       "      <td>0</td>\n",
       "      <td>12</td>\n",
       "      <td>0</td>\n",
       "      <td>0</td>\n",
       "      <td>0</td>\n",
       "      <td>148</td>\n",
       "    </tr>\n",
       "    <tr>\n",
       "      <th>8630</th>\n",
       "      <td>다사6383</td>\n",
       "      <td>0</td>\n",
       "      <td>0</td>\n",
       "      <td>0</td>\n",
       "      <td>0</td>\n",
       "      <td>3</td>\n",
       "      <td>6</td>\n",
       "      <td>0</td>\n",
       "      <td>0</td>\n",
       "      <td>0</td>\n",
       "      <td>172</td>\n",
       "    </tr>\n",
       "    <tr>\n",
       "      <th>8631</th>\n",
       "      <td>다바6886</td>\n",
       "      <td>0</td>\n",
       "      <td>0</td>\n",
       "      <td>0</td>\n",
       "      <td>0</td>\n",
       "      <td>0</td>\n",
       "      <td>0</td>\n",
       "      <td>0</td>\n",
       "      <td>0</td>\n",
       "      <td>0</td>\n",
       "      <td>62</td>\n",
       "    </tr>\n",
       "    <tr>\n",
       "      <th>8632</th>\n",
       "      <td>다사5782</td>\n",
       "      <td>0</td>\n",
       "      <td>0</td>\n",
       "      <td>0</td>\n",
       "      <td>0</td>\n",
       "      <td>0</td>\n",
       "      <td>0</td>\n",
       "      <td>0</td>\n",
       "      <td>0</td>\n",
       "      <td>0</td>\n",
       "      <td>69</td>\n",
       "    </tr>\n",
       "  </tbody>\n",
       "</table>\n",
       "<p>8633 rows × 11 columns</p>\n",
       "</div>"
      ],
      "text/plain": [
       "         gid  심_응  약국  소방서  경찰서  안전상비  버스정류소  지하철  어린이집  유아인구수   총인구수\n",
       "0     다바4791    0   1    0    0     4     17    0    28   1143  13274\n",
       "1     다사5375    0   0    0    0     0      0    0     0      0     21\n",
       "2     다사2014    0   0    0    0     0      0    0     0      0    160\n",
       "3     라사0375    0   0    0    0     0      0    0     0      0      0\n",
       "4     다사5631    0   0    0    0     0     10    0     0      0     70\n",
       "...      ...  ...  ..  ...  ...   ...    ...  ...   ...    ...    ...\n",
       "8628  다사8823    0   0    0    0     0      0    0     0      0      9\n",
       "8629  다사5197    0   0    0    0     0     12    0     0      0    148\n",
       "8630  다사6383    0   0    0    0     3      6    0     0      0    172\n",
       "8631  다바6886    0   0    0    0     0      0    0     0      0     62\n",
       "8632  다사5782    0   0    0    0     0      0    0     0      0     69\n",
       "\n",
       "[8633 rows x 11 columns]"
      ]
     },
     "execution_count": 37,
     "metadata": {},
     "output_type": "execute_result"
    }
   ],
   "source": [
    "Gyeonggi1 = Gyeonggi.drop(['심야약국', '응급실'],axis=1)\n",
    "Gyeonggi1"
   ]
  },
  {
   "cell_type": "code",
   "execution_count": null,
   "id": "53c36a9b",
   "metadata": {},
   "outputs": [],
   "source": []
  },
  {
   "cell_type": "code",
   "execution_count": 38,
   "id": "fb45cc0b",
   "metadata": {
    "scrolled": true
   },
   "outputs": [
    {
     "name": "stdout",
     "output_type": "stream",
     "text": [
      "[[0.97 0.03]\n",
      " [1.   0.  ]\n",
      " [1.   0.  ]\n",
      " ...\n",
      " [1.   0.  ]\n",
      " [1.   0.  ]\n",
      " [1.   0.  ]]\n"
     ]
    }
   ],
   "source": [
    "# Random Forest\n",
    "classifier_rf = random_forest.fit(X_train_over.iloc[:,1:], y_train_over)\n",
    "predictions = classifier_rf.predict_proba(Gyeonggi1.iloc[:,2:])\n",
    "print(predictions)"
   ]
  },
  {
   "cell_type": "code",
   "execution_count": 39,
   "id": "b6fe3690",
   "metadata": {},
   "outputs": [
    {
     "data": {
      "text/html": [
       "<div>\n",
       "<style scoped>\n",
       "    .dataframe tbody tr th:only-of-type {\n",
       "        vertical-align: middle;\n",
       "    }\n",
       "\n",
       "    .dataframe tbody tr th {\n",
       "        vertical-align: top;\n",
       "    }\n",
       "\n",
       "    .dataframe thead th {\n",
       "        text-align: right;\n",
       "    }\n",
       "</style>\n",
       "<table border=\"1\" class=\"dataframe\">\n",
       "  <thead>\n",
       "    <tr style=\"text-align: right;\">\n",
       "      <th></th>\n",
       "      <th>0</th>\n",
       "      <th>1</th>\n",
       "    </tr>\n",
       "  </thead>\n",
       "  <tbody>\n",
       "    <tr>\n",
       "      <th>0</th>\n",
       "      <td>0.97</td>\n",
       "      <td>0.03</td>\n",
       "    </tr>\n",
       "    <tr>\n",
       "      <th>1</th>\n",
       "      <td>1.00</td>\n",
       "      <td>0.00</td>\n",
       "    </tr>\n",
       "    <tr>\n",
       "      <th>2</th>\n",
       "      <td>1.00</td>\n",
       "      <td>0.00</td>\n",
       "    </tr>\n",
       "    <tr>\n",
       "      <th>3</th>\n",
       "      <td>1.00</td>\n",
       "      <td>0.00</td>\n",
       "    </tr>\n",
       "    <tr>\n",
       "      <th>4</th>\n",
       "      <td>0.98</td>\n",
       "      <td>0.02</td>\n",
       "    </tr>\n",
       "    <tr>\n",
       "      <th>...</th>\n",
       "      <td>...</td>\n",
       "      <td>...</td>\n",
       "    </tr>\n",
       "    <tr>\n",
       "      <th>8628</th>\n",
       "      <td>1.00</td>\n",
       "      <td>0.00</td>\n",
       "    </tr>\n",
       "    <tr>\n",
       "      <th>8629</th>\n",
       "      <td>0.99</td>\n",
       "      <td>0.01</td>\n",
       "    </tr>\n",
       "    <tr>\n",
       "      <th>8630</th>\n",
       "      <td>1.00</td>\n",
       "      <td>0.00</td>\n",
       "    </tr>\n",
       "    <tr>\n",
       "      <th>8631</th>\n",
       "      <td>1.00</td>\n",
       "      <td>0.00</td>\n",
       "    </tr>\n",
       "    <tr>\n",
       "      <th>8632</th>\n",
       "      <td>1.00</td>\n",
       "      <td>0.00</td>\n",
       "    </tr>\n",
       "  </tbody>\n",
       "</table>\n",
       "<p>8633 rows × 2 columns</p>\n",
       "</div>"
      ],
      "text/plain": [
       "         0     1\n",
       "0     0.97  0.03\n",
       "1     1.00  0.00\n",
       "2     1.00  0.00\n",
       "3     1.00  0.00\n",
       "4     0.98  0.02\n",
       "...    ...   ...\n",
       "8628  1.00  0.00\n",
       "8629  0.99  0.01\n",
       "8630  1.00  0.00\n",
       "8631  1.00  0.00\n",
       "8632  1.00  0.00\n",
       "\n",
       "[8633 rows x 2 columns]"
      ]
     },
     "execution_count": 39,
     "metadata": {},
     "output_type": "execute_result"
    }
   ],
   "source": [
    "pred_t = pd.DataFrame(predictions)\n",
    "pred_t"
   ]
  },
  {
   "cell_type": "code",
   "execution_count": 40,
   "id": "e7381ea4",
   "metadata": {},
   "outputs": [
    {
     "data": {
      "text/html": [
       "<div>\n",
       "<style scoped>\n",
       "    .dataframe tbody tr th:only-of-type {\n",
       "        vertical-align: middle;\n",
       "    }\n",
       "\n",
       "    .dataframe tbody tr th {\n",
       "        vertical-align: top;\n",
       "    }\n",
       "\n",
       "    .dataframe thead th {\n",
       "        text-align: right;\n",
       "    }\n",
       "</style>\n",
       "<table border=\"1\" class=\"dataframe\">\n",
       "  <thead>\n",
       "    <tr style=\"text-align: right;\">\n",
       "      <th></th>\n",
       "      <th>gid</th>\n",
       "      <th>심_응</th>\n",
       "      <th>약국</th>\n",
       "      <th>소방서</th>\n",
       "      <th>경찰서</th>\n",
       "      <th>안전상비</th>\n",
       "      <th>버스정류소</th>\n",
       "      <th>지하철</th>\n",
       "      <th>어린이집</th>\n",
       "      <th>유아인구수</th>\n",
       "      <th>총인구수</th>\n",
       "      <th>0</th>\n",
       "      <th>1</th>\n",
       "    </tr>\n",
       "  </thead>\n",
       "  <tbody>\n",
       "    <tr>\n",
       "      <th>0</th>\n",
       "      <td>다바4791</td>\n",
       "      <td>0</td>\n",
       "      <td>1</td>\n",
       "      <td>0</td>\n",
       "      <td>0</td>\n",
       "      <td>4</td>\n",
       "      <td>17</td>\n",
       "      <td>0</td>\n",
       "      <td>28</td>\n",
       "      <td>1143</td>\n",
       "      <td>13274</td>\n",
       "      <td>0.97</td>\n",
       "      <td>0.03</td>\n",
       "    </tr>\n",
       "    <tr>\n",
       "      <th>1</th>\n",
       "      <td>다사5375</td>\n",
       "      <td>0</td>\n",
       "      <td>0</td>\n",
       "      <td>0</td>\n",
       "      <td>0</td>\n",
       "      <td>0</td>\n",
       "      <td>0</td>\n",
       "      <td>0</td>\n",
       "      <td>0</td>\n",
       "      <td>0</td>\n",
       "      <td>21</td>\n",
       "      <td>1.00</td>\n",
       "      <td>0.00</td>\n",
       "    </tr>\n",
       "    <tr>\n",
       "      <th>2</th>\n",
       "      <td>다사2014</td>\n",
       "      <td>0</td>\n",
       "      <td>0</td>\n",
       "      <td>0</td>\n",
       "      <td>0</td>\n",
       "      <td>0</td>\n",
       "      <td>0</td>\n",
       "      <td>0</td>\n",
       "      <td>0</td>\n",
       "      <td>0</td>\n",
       "      <td>160</td>\n",
       "      <td>1.00</td>\n",
       "      <td>0.00</td>\n",
       "    </tr>\n",
       "    <tr>\n",
       "      <th>3</th>\n",
       "      <td>라사0375</td>\n",
       "      <td>0</td>\n",
       "      <td>0</td>\n",
       "      <td>0</td>\n",
       "      <td>0</td>\n",
       "      <td>0</td>\n",
       "      <td>0</td>\n",
       "      <td>0</td>\n",
       "      <td>0</td>\n",
       "      <td>0</td>\n",
       "      <td>0</td>\n",
       "      <td>1.00</td>\n",
       "      <td>0.00</td>\n",
       "    </tr>\n",
       "    <tr>\n",
       "      <th>4</th>\n",
       "      <td>다사5631</td>\n",
       "      <td>0</td>\n",
       "      <td>0</td>\n",
       "      <td>0</td>\n",
       "      <td>0</td>\n",
       "      <td>0</td>\n",
       "      <td>10</td>\n",
       "      <td>0</td>\n",
       "      <td>0</td>\n",
       "      <td>0</td>\n",
       "      <td>70</td>\n",
       "      <td>0.98</td>\n",
       "      <td>0.02</td>\n",
       "    </tr>\n",
       "    <tr>\n",
       "      <th>...</th>\n",
       "      <td>...</td>\n",
       "      <td>...</td>\n",
       "      <td>...</td>\n",
       "      <td>...</td>\n",
       "      <td>...</td>\n",
       "      <td>...</td>\n",
       "      <td>...</td>\n",
       "      <td>...</td>\n",
       "      <td>...</td>\n",
       "      <td>...</td>\n",
       "      <td>...</td>\n",
       "      <td>...</td>\n",
       "      <td>...</td>\n",
       "    </tr>\n",
       "    <tr>\n",
       "      <th>8628</th>\n",
       "      <td>다사8823</td>\n",
       "      <td>0</td>\n",
       "      <td>0</td>\n",
       "      <td>0</td>\n",
       "      <td>0</td>\n",
       "      <td>0</td>\n",
       "      <td>0</td>\n",
       "      <td>0</td>\n",
       "      <td>0</td>\n",
       "      <td>0</td>\n",
       "      <td>9</td>\n",
       "      <td>1.00</td>\n",
       "      <td>0.00</td>\n",
       "    </tr>\n",
       "    <tr>\n",
       "      <th>8629</th>\n",
       "      <td>다사5197</td>\n",
       "      <td>0</td>\n",
       "      <td>0</td>\n",
       "      <td>0</td>\n",
       "      <td>0</td>\n",
       "      <td>0</td>\n",
       "      <td>12</td>\n",
       "      <td>0</td>\n",
       "      <td>0</td>\n",
       "      <td>0</td>\n",
       "      <td>148</td>\n",
       "      <td>0.99</td>\n",
       "      <td>0.01</td>\n",
       "    </tr>\n",
       "    <tr>\n",
       "      <th>8630</th>\n",
       "      <td>다사6383</td>\n",
       "      <td>0</td>\n",
       "      <td>0</td>\n",
       "      <td>0</td>\n",
       "      <td>0</td>\n",
       "      <td>3</td>\n",
       "      <td>6</td>\n",
       "      <td>0</td>\n",
       "      <td>0</td>\n",
       "      <td>0</td>\n",
       "      <td>172</td>\n",
       "      <td>1.00</td>\n",
       "      <td>0.00</td>\n",
       "    </tr>\n",
       "    <tr>\n",
       "      <th>8631</th>\n",
       "      <td>다바6886</td>\n",
       "      <td>0</td>\n",
       "      <td>0</td>\n",
       "      <td>0</td>\n",
       "      <td>0</td>\n",
       "      <td>0</td>\n",
       "      <td>0</td>\n",
       "      <td>0</td>\n",
       "      <td>0</td>\n",
       "      <td>0</td>\n",
       "      <td>62</td>\n",
       "      <td>1.00</td>\n",
       "      <td>0.00</td>\n",
       "    </tr>\n",
       "    <tr>\n",
       "      <th>8632</th>\n",
       "      <td>다사5782</td>\n",
       "      <td>0</td>\n",
       "      <td>0</td>\n",
       "      <td>0</td>\n",
       "      <td>0</td>\n",
       "      <td>0</td>\n",
       "      <td>0</td>\n",
       "      <td>0</td>\n",
       "      <td>0</td>\n",
       "      <td>0</td>\n",
       "      <td>69</td>\n",
       "      <td>1.00</td>\n",
       "      <td>0.00</td>\n",
       "    </tr>\n",
       "  </tbody>\n",
       "</table>\n",
       "<p>8633 rows × 13 columns</p>\n",
       "</div>"
      ],
      "text/plain": [
       "         gid  심_응  약국  소방서  경찰서  안전상비  버스정류소  지하철  어린이집  유아인구수   총인구수     0  \\\n",
       "0     다바4791    0   1    0    0     4     17    0    28   1143  13274  0.97   \n",
       "1     다사5375    0   0    0    0     0      0    0     0      0     21  1.00   \n",
       "2     다사2014    0   0    0    0     0      0    0     0      0    160  1.00   \n",
       "3     라사0375    0   0    0    0     0      0    0     0      0      0  1.00   \n",
       "4     다사5631    0   0    0    0     0     10    0     0      0     70  0.98   \n",
       "...      ...  ...  ..  ...  ...   ...    ...  ...   ...    ...    ...   ...   \n",
       "8628  다사8823    0   0    0    0     0      0    0     0      0      9  1.00   \n",
       "8629  다사5197    0   0    0    0     0     12    0     0      0    148  0.99   \n",
       "8630  다사6383    0   0    0    0     3      6    0     0      0    172  1.00   \n",
       "8631  다바6886    0   0    0    0     0      0    0     0      0     62  1.00   \n",
       "8632  다사5782    0   0    0    0     0      0    0     0      0     69  1.00   \n",
       "\n",
       "         1  \n",
       "0     0.03  \n",
       "1     0.00  \n",
       "2     0.00  \n",
       "3     0.00  \n",
       "4     0.02  \n",
       "...    ...  \n",
       "8628  0.00  \n",
       "8629  0.01  \n",
       "8630  0.00  \n",
       "8631  0.00  \n",
       "8632  0.00  \n",
       "\n",
       "[8633 rows x 13 columns]"
      ]
     },
     "execution_count": 40,
     "metadata": {},
     "output_type": "execute_result"
    }
   ],
   "source": [
    "final = pd.concat([Gyeonggi1, pred_t], axis=1)\n",
    "final"
   ]
  },
  {
   "cell_type": "code",
   "execution_count": 41,
   "id": "d03c3136",
   "metadata": {},
   "outputs": [],
   "source": [
    "final.to_csv('C:/Users/user/Desktop/경기_예측_전체.csv', encoding='cp949', index = False)"
   ]
  },
  {
   "cell_type": "code",
   "execution_count": null,
   "id": "2becf4aa",
   "metadata": {},
   "outputs": [],
   "source": []
  }
 ],
 "metadata": {
  "kernelspec": {
   "display_name": "Python 3 (ipykernel)",
   "language": "python",
   "name": "python3"
  },
  "language_info": {
   "codemirror_mode": {
    "name": "ipython",
    "version": 3
   },
   "file_extension": ".py",
   "mimetype": "text/x-python",
   "name": "python",
   "nbconvert_exporter": "python",
   "pygments_lexer": "ipython3",
   "version": "3.9.12"
  }
 },
 "nbformat": 4,
 "nbformat_minor": 5
}
